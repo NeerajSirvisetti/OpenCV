{
 "cells": [
  {
   "cell_type": "markdown",
   "id": "fedbdda0",
   "metadata": {},
   "source": [
    "# Image Processing Operations"
   ]
  },
  {
   "cell_type": "code",
   "execution_count": null,
   "id": "1fb1d58c",
   "metadata": {},
   "outputs": [],
   "source": []
  },
  {
   "cell_type": "markdown",
   "id": "b7ec118a",
   "metadata": {},
   "source": [
    "##  1 -  \n",
    "\n",
    "\n",
    "[Reference](https://pyimagesearch.com/2021/01/19/image-masking-with-opencv/?_ga=2.148374576.608670271.1656952021-258974203.1656952021)"
   ]
  }
 ],
 "metadata": {
  "kernelspec": {
   "display_name": "Python 3 (ipykernel)",
   "language": "python",
   "name": "python3"
  },
  "language_info": {
   "codemirror_mode": {
    "name": "ipython",
    "version": 3
   },
   "file_extension": ".py",
   "mimetype": "text/x-python",
   "name": "python",
   "nbconvert_exporter": "python",
   "pygments_lexer": "ipython3",
   "version": "3.10.5"
  }
 },
 "nbformat": 4,
 "nbformat_minor": 5
}
